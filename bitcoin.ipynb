{
 "cells": [
  {
   "cell_type": "code",
   "execution_count": 2,
   "metadata": {},
   "outputs": [],
   "source": [
    "import pandas as pd\n",
    "import numpy as np\n",
    "import datapungi_fed as dpf\n",
    "import matplotlib.pyplot as plt\n",
    "import seaborn as sns\n",
    "%matplotlib inline"
   ]
  },
  {
   "cell_type": "code",
   "execution_count": 282,
   "metadata": {},
   "outputs": [],
   "source": [
    "fed=pd.read_csv(r\"C:\\Users\\Rachel\\Desktop\\fedfunds.csv\")"
   ]
  },
  {
   "cell_type": "code",
   "execution_count": 283,
   "metadata": {},
   "outputs": [
    {
     "data": {
      "text/plain": [
       "(pandas.core.frame.DataFrame, (59, 3), 177)"
      ]
     },
     "execution_count": 283,
     "metadata": {},
     "output_type": "execute_result"
    }
   ],
   "source": [
    "# bit is a one column data frame\n",
    "type(fed), fed.shape, fed.size"
   ]
  },
  {
   "cell_type": "markdown",
   "metadata": {},
   "source": [
    "# The relation between Bitcoin Price USD and Fed funds rates since 2015"
   ]
  },
  {
   "cell_type": "code",
   "execution_count": 284,
   "metadata": {},
   "outputs": [
    {
     "data": {
      "text/html": [
       "<div>\n",
       "<style scoped>\n",
       "    .dataframe tbody tr th:only-of-type {\n",
       "        vertical-align: middle;\n",
       "    }\n",
       "\n",
       "    .dataframe tbody tr th {\n",
       "        vertical-align: top;\n",
       "    }\n",
       "\n",
       "    .dataframe thead th {\n",
       "        text-align: right;\n",
       "    }\n",
       "</style>\n",
       "<table border=\"1\" class=\"dataframe\">\n",
       "  <thead>\n",
       "    <tr style=\"text-align: right;\">\n",
       "      <th></th>\n",
       "      <th>date</th>\n",
       "      <th>federal funds rates</th>\n",
       "      <th>price of bitcoin</th>\n",
       "    </tr>\n",
       "  </thead>\n",
       "  <tbody>\n",
       "    <tr>\n",
       "      <td>0</td>\n",
       "      <td>5/1/2015</td>\n",
       "      <td>0.12</td>\n",
       "      <td>233.14</td>\n",
       "    </tr>\n",
       "    <tr>\n",
       "      <td>1</td>\n",
       "      <td>6/1/2015</td>\n",
       "      <td>0.13</td>\n",
       "      <td>223.56</td>\n",
       "    </tr>\n",
       "    <tr>\n",
       "      <td>2</td>\n",
       "      <td>7/1/2015</td>\n",
       "      <td>0.13</td>\n",
       "      <td>259.02</td>\n",
       "    </tr>\n",
       "  </tbody>\n",
       "</table>\n",
       "</div>"
      ],
      "text/plain": [
       "       date  federal funds rates  price of bitcoin\n",
       "0  5/1/2015                 0.12            233.14\n",
       "1  6/1/2015                 0.13            223.56\n",
       "2  7/1/2015                 0.13            259.02"
      ]
     },
     "execution_count": 284,
     "metadata": {},
     "output_type": "execute_result"
    }
   ],
   "source": [
    "fed.head(3)"
   ]
  },
  {
   "cell_type": "code",
   "execution_count": 285,
   "metadata": {},
   "outputs": [
    {
     "data": {
      "text/html": [
       "<div>\n",
       "<style scoped>\n",
       "    .dataframe tbody tr th:only-of-type {\n",
       "        vertical-align: middle;\n",
       "    }\n",
       "\n",
       "    .dataframe tbody tr th {\n",
       "        vertical-align: top;\n",
       "    }\n",
       "\n",
       "    .dataframe thead th {\n",
       "        text-align: right;\n",
       "    }\n",
       "</style>\n",
       "<table border=\"1\" class=\"dataframe\">\n",
       "  <thead>\n",
       "    <tr style=\"text-align: right;\">\n",
       "      <th></th>\n",
       "      <th>date</th>\n",
       "      <th>federal funds rates</th>\n",
       "      <th>price of bitcoin</th>\n",
       "    </tr>\n",
       "  </thead>\n",
       "  <tbody>\n",
       "    <tr>\n",
       "      <td>56</td>\n",
       "      <td>1/1/2020</td>\n",
       "      <td>1.55</td>\n",
       "      <td>7174.32</td>\n",
       "    </tr>\n",
       "    <tr>\n",
       "      <td>57</td>\n",
       "      <td>2/1/2020</td>\n",
       "      <td>1.58</td>\n",
       "      <td>9375.06</td>\n",
       "    </tr>\n",
       "    <tr>\n",
       "      <td>58</td>\n",
       "      <td>3/1/2020</td>\n",
       "      <td>0.65</td>\n",
       "      <td>8490.30</td>\n",
       "    </tr>\n",
       "  </tbody>\n",
       "</table>\n",
       "</div>"
      ],
      "text/plain": [
       "        date  federal funds rates  price of bitcoin\n",
       "56  1/1/2020                 1.55           7174.32\n",
       "57  2/1/2020                 1.58           9375.06\n",
       "58  3/1/2020                 0.65           8490.30"
      ]
     },
     "execution_count": 285,
     "metadata": {},
     "output_type": "execute_result"
    }
   ],
   "source": [
    "fed.tail(3)"
   ]
  },
  {
   "cell_type": "code",
   "execution_count": 286,
   "metadata": {},
   "outputs": [
    {
     "data": {
      "text/plain": [
       "<Figure size 720x720 with 0 Axes>"
      ]
     },
     "metadata": {},
     "output_type": "display_data"
    },
    {
     "data": {
      "image/png": "[encoded data removed]",
      "text/plain": [
       "<Figure size 432x432 with 3 Axes>"
      ]
     },
     "metadata": {
      "needs_background": "light"
     },
     "output_type": "display_data"
    }
   ],
   "source": [
    "plt.figure(figsize=(10,10))\n",
    "sns.jointplot(x=fed[\"federal funds rates\"], y=fed[\"price of bitcoin\"])\n",
    "plt.show()"
   ]
  },
  {
   "cell_type": "code",
   "execution_count": 287,
   "metadata": {},
   "outputs": [],
   "source": [
    "y=fed[\"federal funds rates\"]"
   ]
  },
  {
   "cell_type": "code",
   "execution_count": 288,
   "metadata": {},
   "outputs": [],
   "source": [
    "x=fed[\"date\"]"
   ]
  },
  {
   "cell_type": "code",
   "execution_count": 289,
   "metadata": {},
   "outputs": [],
   "source": [
    "a=fed[\"date\"]"
   ]
  },
  {
   "cell_type": "code",
   "execution_count": 290,
   "metadata": {},
   "outputs": [],
   "source": [
    "b=fed[\"price of bitcoin\"]"
   ]
  },
  {
   "cell_type": "code",
   "execution_count": 291,
   "metadata": {
    "scrolled": true
   },
   "outputs": [
    {
     "data": {
      "text/plain": [
       "[<matplotlib.lines.Line2D at 0x1f5af471e48>]"
      ]
     },
     "execution_count": 291,
     "metadata": {},
     "output_type": "execute_result"
    },
    {
     "data": {
      "image/png": "[encoded data removed]",
      "text/plain": [
       "<Figure size 1008x360 with 2 Axes>"
      ]
     },
     "metadata": {
      "needs_background": "light"
     },
     "output_type": "display_data"
    }
   ],
   "source": [
    "plt.figure(figsize=(14,5 ))\n",
    "ax1=plt.subplot(211)\n",
    "ax2=plt.subplot(212)\n",
    "ax1.set_title(\"federal funds rates\", fontsize=14)\n",
    "ax2.set_xlabel(\"price of bitcoin\",fontsize=14)\n",
    "ax1.set_xticks([1,10,20,30,40,50])\n",
    "plt.xticks([1,10,20,30,40,50])\n",
    "ax1.plot(x, y)\n",
    "ax2.plot(a, b)"
   ]
  },
  {
   "cell_type": "code",
   "execution_count": 294,
   "metadata": {},
   "outputs": [],
   "source": [
    "from sklearn.linear_model import LinearRegression"
   ]
  },
  {
   "cell_type": "code",
   "execution_count": 304,
   "metadata": {},
   "outputs": [],
   "source": [
    "reg=LinearRegression()"
   ]
  },
  {
   "cell_type": "code",
   "execution_count": 10,
   "metadata": {},
   "outputs": [],
   "source": [
    "def slope_intercept(x_val, y_val):\n",
    "    x = np.array(x_val)\n",
    "    y = np.array(y_val)\n",
    "    m = (np.mean(x)*np.mean(y) - np.mean(x*y)) / (np.mean(x)*np.mean(x) - np.mean(x*x))\n",
    "    m = round(m, 2)\n",
    "    b = (np.mean(y) - np.mean(x)*m)\n",
    "    \n",
    "    return m,b"
   ]
  },
  {
   "cell_type": "code",
   "execution_count": 298,
   "metadata": {},
   "outputs": [
    {
     "data": {
      "text/html": [
       "<div>\n",
       "<style scoped>\n",
       "    .dataframe tbody tr th:only-of-type {\n",
       "        vertical-align: middle;\n",
       "    }\n",
       "\n",
       "    .dataframe tbody tr th {\n",
       "        vertical-align: top;\n",
       "    }\n",
       "\n",
       "    .dataframe thead th {\n",
       "        text-align: right;\n",
       "    }\n",
       "</style>\n",
       "<table border=\"1\" class=\"dataframe\">\n",
       "  <thead>\n",
       "    <tr style=\"text-align: right;\">\n",
       "      <th></th>\n",
       "      <th>date</th>\n",
       "      <th>federal funds rates</th>\n",
       "      <th>price of bitcoin</th>\n",
       "    </tr>\n",
       "  </thead>\n",
       "  <tbody>\n",
       "    <tr>\n",
       "      <td>0</td>\n",
       "      <td>5/1/2015</td>\n",
       "      <td>0.12</td>\n",
       "      <td>233.14</td>\n",
       "    </tr>\n",
       "    <tr>\n",
       "      <td>1</td>\n",
       "      <td>6/1/2015</td>\n",
       "      <td>0.13</td>\n",
       "      <td>223.56</td>\n",
       "    </tr>\n",
       "    <tr>\n",
       "      <td>2</td>\n",
       "      <td>7/1/2015</td>\n",
       "      <td>0.13</td>\n",
       "      <td>259.02</td>\n",
       "    </tr>\n",
       "  </tbody>\n",
       "</table>\n",
       "</div>"
      ],
      "text/plain": [
       "       date  federal funds rates  price of bitcoin\n",
       "0  5/1/2015                 0.12            233.14\n",
       "1  6/1/2015                 0.13            223.56\n",
       "2  7/1/2015                 0.13            259.02"
      ]
     },
     "execution_count": 298,
     "metadata": {},
     "output_type": "execute_result"
    }
   ],
   "source": [
    "fed.head(3)"
   ]
  },
  {
   "cell_type": "code",
   "execution_count": 301,
   "metadata": {},
   "outputs": [],
   "source": [
    "xs=fed[\"federal funds rates\"]"
   ]
  },
  {
   "cell_type": "code",
   "execution_count": 302,
   "metadata": {},
   "outputs": [],
   "source": [
    "ys=fed[\"price of bitcoin\"]"
   ]
  },
  {
   "cell_type": "code",
   "execution_count": 21,
   "metadata": {
    "scrolled": true
   },
   "outputs": [
    {
     "data": {
      "text/plain": [
       "(3477.64, 204.38901016949058)"
      ]
     },
     "execution_count": 21,
     "metadata": {},
     "output_type": "execute_result"
    }
   ],
   "source": [
    "slope_intercept(xs,ys)"
   ]
  },
  {
   "cell_type": "code",
   "execution_count": 22,
   "metadata": {},
   "outputs": [],
   "source": [
    "m,b=slope_intercept(xs,ys)"
   ]
  },
  {
   "cell_type": "code",
   "execution_count": 63,
   "metadata": {},
   "outputs": [],
   "source": [
    "reg=[m*x+b for x in xs]"
   ]
  },
  {
   "cell_type": "code",
   "execution_count": 62,
   "metadata": {},
   "outputs": [
    {
     "data": {
      "image/png": "[encoded data removed]",
      "text/plain": [
       "<Figure size 720x360 with 1 Axes>"
      ]
     },
     "metadata": {
      "needs_background": "light"
     },
     "output_type": "display_data"
    }
   ],
   "source": [
    "plt.figure(figsize=(10, 5))\n",
    "plt.scatter(xs, ys, color ='red')\n",
    "plt.plot(xs, reg)\n",
    "plt.ylabel('dependent variable')\n",
    "plt.xlabel('federal fund rates')\n",
    "plt.title('relationship between federal funds rate and bitcoin')\n",
    "plt.show()"
   ]
  },
  {
   "cell_type": "markdown",
   "metadata": {},
   "source": [
    "# The relation between Bitcoin Price USD and personal income since 2015"
   ]
  },
  {
   "cell_type": "code",
   "execution_count": 5,
   "metadata": {
    "scrolled": true
   },
   "outputs": [],
   "source": [
    "PI=pd.read_csv(r\"C:\\Users\\Rachel\\Desktop\\PI.csv\")"
   ]
  },
  {
   "cell_type": "code",
   "execution_count": 6,
   "metadata": {
    "scrolled": true
   },
   "outputs": [
    {
     "data": {
      "text/html": [
       "<div>\n",
       "<style scoped>\n",
       "    .dataframe tbody tr th:only-of-type {\n",
       "        vertical-align: middle;\n",
       "    }\n",
       "\n",
       "    .dataframe tbody tr th {\n",
       "        vertical-align: top;\n",
       "    }\n",
       "\n",
       "    .dataframe thead th {\n",
       "        text-align: right;\n",
       "    }\n",
       "</style>\n",
       "<table border=\"1\" class=\"dataframe\">\n",
       "  <thead>\n",
       "    <tr style=\"text-align: right;\">\n",
       "      <th></th>\n",
       "      <th>date</th>\n",
       "      <th>pi</th>\n",
       "      <th>price</th>\n",
       "    </tr>\n",
       "  </thead>\n",
       "  <tbody>\n",
       "    <tr>\n",
       "      <td>0</td>\n",
       "      <td>5/1/2015</td>\n",
       "      <td>15696.1</td>\n",
       "      <td>233.14</td>\n",
       "    </tr>\n",
       "    <tr>\n",
       "      <td>1</td>\n",
       "      <td>6/1/2015</td>\n",
       "      <td>15760.0</td>\n",
       "      <td>223.56</td>\n",
       "    </tr>\n",
       "  </tbody>\n",
       "</table>\n",
       "</div>"
      ],
      "text/plain": [
       "       date       pi   price\n",
       "0  5/1/2015  15696.1  233.14\n",
       "1  6/1/2015  15760.0  223.56"
      ]
     },
     "execution_count": 6,
     "metadata": {},
     "output_type": "execute_result"
    }
   ],
   "source": [
    "PI.head(2)"
   ]
  },
  {
   "cell_type": "code",
   "execution_count": 117,
   "metadata": {},
   "outputs": [],
   "source": [
    "x1=PI[\"date\"]\n",
    "y1=PI[\"pi\"]\n",
    "x2=PI[\"date\"]\n",
    "y2=PI[\"price\"]"
   ]
  },
  {
   "cell_type": "code",
   "execution_count": 118,
   "metadata": {
    "scrolled": true
   },
   "outputs": [
    {
     "data": {
      "text/plain": [
       "[<matplotlib.lines.Line2D at 0x1f5ad3505c8>]"
      ]
     },
     "execution_count": 118,
     "metadata": {},
     "output_type": "execute_result"
    },
    {
     "data": {
      "image/png": "[encoded data removed]",
      "text/plain": [
       "<Figure size 1008x360 with 2 Axes>"
      ]
     },
     "metadata": {
      "needs_background": "light"
     },
     "output_type": "display_data"
    }
   ],
   "source": [
    "plt.figure(figsize=(14,5))\n",
    "ax3 = plt.subplot(211)\n",
    "ax4 = plt.subplot(212)\n",
    "ax3.set_title(\"personal income\")\n",
    "ax4.set_xlabel(\"price of bitcoin\",)\n",
    "ax3.set_xticks([1,10,20,30,40,50])\n",
    "ax4.set_xticks([1,10,20,30,40,50])\n",
    "ax3.plot(x1, y1)\n",
    "ax4.plot(x2, y2)"
   ]
  },
  {
   "cell_type": "code",
   "execution_count": 7,
   "metadata": {
    "scrolled": true
   },
   "outputs": [
    {
     "data": {
      "text/html": [
       "<div>\n",
       "<style scoped>\n",
       "    .dataframe tbody tr th:only-of-type {\n",
       "        vertical-align: middle;\n",
       "    }\n",
       "\n",
       "    .dataframe tbody tr th {\n",
       "        vertical-align: top;\n",
       "    }\n",
       "\n",
       "    .dataframe thead th {\n",
       "        text-align: right;\n",
       "    }\n",
       "</style>\n",
       "<table border=\"1\" class=\"dataframe\">\n",
       "  <thead>\n",
       "    <tr style=\"text-align: right;\">\n",
       "      <th></th>\n",
       "      <th>date</th>\n",
       "      <th>pi</th>\n",
       "      <th>price</th>\n",
       "    </tr>\n",
       "  </thead>\n",
       "  <tbody>\n",
       "    <tr>\n",
       "      <td>0</td>\n",
       "      <td>5/1/2015</td>\n",
       "      <td>15696.1</td>\n",
       "      <td>233.14</td>\n",
       "    </tr>\n",
       "    <tr>\n",
       "      <td>1</td>\n",
       "      <td>6/1/2015</td>\n",
       "      <td>15760.0</td>\n",
       "      <td>223.56</td>\n",
       "    </tr>\n",
       "  </tbody>\n",
       "</table>\n",
       "</div>"
      ],
      "text/plain": [
       "       date       pi   price\n",
       "0  5/1/2015  15696.1  233.14\n",
       "1  6/1/2015  15760.0  223.56"
      ]
     },
     "execution_count": 7,
     "metadata": {},
     "output_type": "execute_result"
    }
   ],
   "source": [
    "PI.head(2)"
   ]
  },
  {
   "cell_type": "code",
   "execution_count": 8,
   "metadata": {},
   "outputs": [],
   "source": [
    "xs2=PI[\"pi\"]\n",
    "ys2=PI[\"price\"]"
   ]
  },
  {
   "cell_type": "code",
   "execution_count": 12,
   "metadata": {},
   "outputs": [
    {
     "data": {
      "text/plain": [
       "(2.86, -44964.3500338983)"
      ]
     },
     "execution_count": 12,
     "metadata": {},
     "output_type": "execute_result"
    }
   ],
   "source": [
    "slope_intercept(xs2,ys2)"
   ]
  },
  {
   "cell_type": "code",
   "execution_count": 45,
   "metadata": {},
   "outputs": [],
   "source": [
    "a, b=slope_intercept(xs2,ys2)"
   ]
  },
  {
   "cell_type": "code",
   "execution_count": 46,
   "metadata": {},
   "outputs": [
    {
     "data": {
      "text/plain": [
       "[6279.538307692317,\n",
       " 6634.116307692326,\n",
       " 6874.428307692317,\n",
       " 7280.249307692327,\n",
       " 7268.469307692329,\n",
       " 7709.041307692314,\n",
       " 7949.942307692312,\n",
       " 8085.412307692313,\n",
       " 8593.719307692329,\n",
       " 8794.568307692316,\n",
       " 9391.225307692308,\n",
       " 10007.31930769232,\n",
       " 7756.750307692317]"
      ]
     },
     "execution_count": 46,
     "metadata": {},
     "output_type": "execute_result"
    }
   ],
   "source": [
    "reg2=[a*x+b for x in xs2]\n",
    "reg2"
   ]
  },
  {
   "cell_type": "code",
   "execution_count": 61,
   "metadata": {},
   "outputs": [
    {
     "data": {
      "image/png": "[encoded data removed]",
      "text/plain": [
       "<Figure size 720x360 with 1 Axes>"
      ]
     },
     "metadata": {
      "needs_background": "light"
     },
     "output_type": "display_data"
    }
   ],
   "source": [
    "plt.figure(figsize=(10,5))\n",
    "plt.scatter(xs2, ys2, color ='red')\n",
    "plt.plot(xs2,reg2,color=\"blue\")\n",
    "plt.ylabel('price of bitcoin')\n",
    "plt.xlabel('personal income')\n",
    "plt.title('relationship between personal incom and bitcoin')\n",
    "plt.show()"
   ]
  },
  {
   "cell_type": "markdown",
   "metadata": {},
   "source": [
    "# The relation between Bitcoin Price USD and fedral funds rates since 2015"
   ]
  },
  {
   "cell_type": "code",
   "execution_count": 119,
   "metadata": {},
   "outputs": [
    {
     "data": {
      "text/html": [
       "<div>\n",
       "<style scoped>\n",
       "    .dataframe tbody tr th:only-of-type {\n",
       "        vertical-align: middle;\n",
       "    }\n",
       "\n",
       "    .dataframe tbody tr th {\n",
       "        vertical-align: top;\n",
       "    }\n",
       "\n",
       "    .dataframe thead th {\n",
       "        text-align: right;\n",
       "    }\n",
       "</style>\n",
       "<table border=\"1\" class=\"dataframe\">\n",
       "  <thead>\n",
       "    <tr style=\"text-align: right;\">\n",
       "      <th></th>\n",
       "      <th>date</th>\n",
       "      <th>pce</th>\n",
       "      <th>price</th>\n",
       "    </tr>\n",
       "  </thead>\n",
       "  <tbody>\n",
       "    <tr>\n",
       "      <td>0</td>\n",
       "      <td>5/1/2015</td>\n",
       "      <td>12261.1</td>\n",
       "      <td>233.14</td>\n",
       "    </tr>\n",
       "    <tr>\n",
       "      <td>1</td>\n",
       "      <td>6/1/2015</td>\n",
       "      <td>12295.6</td>\n",
       "      <td>223.56</td>\n",
       "    </tr>\n",
       "    <tr>\n",
       "      <td>2</td>\n",
       "      <td>7/1/2015</td>\n",
       "      <td>12357.1</td>\n",
       "      <td>259.02</td>\n",
       "    </tr>\n",
       "  </tbody>\n",
       "</table>\n",
       "</div>"
      ],
      "text/plain": [
       "       date      pce   price\n",
       "0  5/1/2015  12261.1  233.14\n",
       "1  6/1/2015  12295.6  223.56\n",
       "2  7/1/2015  12357.1  259.02"
      ]
     },
     "execution_count": 119,
     "metadata": {},
     "output_type": "execute_result"
    }
   ],
   "source": [
    "PCE=pd.read_csv(r\"C:\\Users\\Rachel\\Desktop\\PCE.csv\")\n",
    "PCE.head(3)"
   ]
  },
  {
   "cell_type": "code",
   "execution_count": 120,
   "metadata": {
    "scrolled": true
   },
   "outputs": [
    {
     "data": {
      "text/html": [
       "<div>\n",
       "<style scoped>\n",
       "    .dataframe tbody tr th:only-of-type {\n",
       "        vertical-align: middle;\n",
       "    }\n",
       "\n",
       "    .dataframe tbody tr th {\n",
       "        vertical-align: top;\n",
       "    }\n",
       "\n",
       "    .dataframe thead th {\n",
       "        text-align: right;\n",
       "    }\n",
       "</style>\n",
       "<table border=\"1\" class=\"dataframe\">\n",
       "  <thead>\n",
       "    <tr style=\"text-align: right;\">\n",
       "      <th></th>\n",
       "      <th>date</th>\n",
       "      <th>pce</th>\n",
       "      <th>price</th>\n",
       "    </tr>\n",
       "  </thead>\n",
       "  <tbody>\n",
       "    <tr>\n",
       "      <td>56</td>\n",
       "      <td>1/1/2020</td>\n",
       "      <td>14913.7</td>\n",
       "      <td>7174.32</td>\n",
       "    </tr>\n",
       "    <tr>\n",
       "      <td>57</td>\n",
       "      <td>2/1/2020</td>\n",
       "      <td>14940.5</td>\n",
       "      <td>9375.06</td>\n",
       "    </tr>\n",
       "    <tr>\n",
       "      <td>58</td>\n",
       "      <td>3/1/2020</td>\n",
       "      <td>13813.2</td>\n",
       "      <td>8490.30</td>\n",
       "    </tr>\n",
       "  </tbody>\n",
       "</table>\n",
       "</div>"
      ],
      "text/plain": [
       "        date      pce    price\n",
       "56  1/1/2020  14913.7  7174.32\n",
       "57  2/1/2020  14940.5  9375.06\n",
       "58  3/1/2020  13813.2  8490.30"
      ]
     },
     "execution_count": 120,
     "metadata": {},
     "output_type": "execute_result"
    }
   ],
   "source": [
    "PCE.tail(3)"
   ]
  },
  {
   "cell_type": "code",
   "execution_count": 121,
   "metadata": {},
   "outputs": [],
   "source": [
    "x3=PCE.date\n",
    "y3=PCE.pce\n",
    "x4=PCE.date\n",
    "y4=PCE.price"
   ]
  },
  {
   "cell_type": "code",
   "execution_count": 122,
   "metadata": {},
   "outputs": [
    {
     "data": {
      "text/plain": [
       "[<matplotlib.lines.Line2D at 0x1f5ad893808>]"
      ]
     },
     "execution_count": 122,
     "metadata": {},
     "output_type": "execute_result"
    },
    {
     "data": {
      "image/png": "[encoded data removed]",
      "text/plain": [
       "<Figure size 1080x432 with 2 Axes>"
      ]
     },
     "metadata": {
      "needs_background": "light"
     },
     "output_type": "display_data"
    }
   ],
   "source": [
    "plt.figure(figsize = (15,6))\n",
    "ax5 = plt.subplot(211)\n",
    "ax6 = plt.subplot(212)\n",
    "ax5.set_title(\"personal custom expenditure\")\n",
    "ax6.set_xlabel(\"price of bitcoin\",)\n",
    "ax5.set_xticks([1,10,20,30,40,50])\n",
    "ax6.set_xticks([1,10,20,30,40,50])\n",
    "ax5.plot(x3, y3)\n",
    "ax6.plot(x4, y4)"
   ]
  },
  {
   "cell_type": "code",
   "execution_count": 125,
   "metadata": {},
   "outputs": [],
   "source": [
    "xs3=PCE.pce\n",
    "ys3=PCE.price"
   ]
  },
  {
   "cell_type": "code",
   "execution_count": 54,
   "metadata": {},
   "outputs": [
    {
     "data": {
      "text/plain": [
       "(3.76, -46556.15379661016)"
      ]
     },
     "execution_count": 54,
     "metadata": {},
     "output_type": "execute_result"
    }
   ],
   "source": [
    "slope_intercept(xs3,ys3)"
   ]
  },
  {
   "cell_type": "code",
   "execution_count": 55,
   "metadata": {},
   "outputs": [],
   "source": [
    "c,d=slope_intercept(xs3, ys3)"
   ]
  },
  {
   "cell_type": "code",
   "execution_count": 56,
   "metadata": {},
   "outputs": [],
   "source": [
    "reg3=[c*x+d for x in xs3]"
   ]
  },
  {
   "cell_type": "code",
   "execution_count": 60,
   "metadata": {},
   "outputs": [
    {
     "data": {
      "image/png": "[encoded data removed]",
      "text/plain": [
       "<Figure size 720x360 with 1 Axes>"
      ]
     },
     "metadata": {
      "needs_background": "light"
     },
     "output_type": "display_data"
    }
   ],
   "source": [
    "plt.figure(figsize=(10,5))\n",
    "plt.plot(xs3, reg3, color=\"blue\")\n",
    "plt.scatter(xs3, ys3, color=\"red\")\n",
    "plt.show()"
   ]
  },
  {
   "cell_type": "markdown",
   "metadata": {},
   "source": [
    "# multible linear regression"
   ]
  },
  {
   "cell_type": "code",
   "execution_count": 14,
   "metadata": {},
   "outputs": [],
   "source": [
    "df=pd.read_csv(r\"C:\\Users\\Rachel\\Desktop\\multi.csv\")"
   ]
  },
  {
   "cell_type": "code",
   "execution_count": 15,
   "metadata": {},
   "outputs": [
    {
     "data": {
      "text/html": [
       "<div>\n",
       "<style scoped>\n",
       "    .dataframe tbody tr th:only-of-type {\n",
       "        vertical-align: middle;\n",
       "    }\n",
       "\n",
       "    .dataframe tbody tr th {\n",
       "        vertical-align: top;\n",
       "    }\n",
       "\n",
       "    .dataframe thead th {\n",
       "        text-align: right;\n",
       "    }\n",
       "</style>\n",
       "<table border=\"1\" class=\"dataframe\">\n",
       "  <thead>\n",
       "    <tr style=\"text-align: right;\">\n",
       "      <th></th>\n",
       "      <th>date</th>\n",
       "      <th>pce</th>\n",
       "      <th>fed</th>\n",
       "      <th>price</th>\n",
       "      <th>pi</th>\n",
       "    </tr>\n",
       "  </thead>\n",
       "  <tbody>\n",
       "    <tr>\n",
       "      <td>0</td>\n",
       "      <td>5/1/2015</td>\n",
       "      <td>12261.1</td>\n",
       "      <td>0.12</td>\n",
       "      <td>233.14</td>\n",
       "      <td>15696.1</td>\n",
       "    </tr>\n",
       "    <tr>\n",
       "      <td>1</td>\n",
       "      <td>6/1/2015</td>\n",
       "      <td>12295.6</td>\n",
       "      <td>0.13</td>\n",
       "      <td>223.56</td>\n",
       "      <td>15760.0</td>\n",
       "    </tr>\n",
       "    <tr>\n",
       "      <td>2</td>\n",
       "      <td>7/1/2015</td>\n",
       "      <td>12357.1</td>\n",
       "      <td>0.13</td>\n",
       "      <td>259.02</td>\n",
       "      <td>15806.2</td>\n",
       "    </tr>\n",
       "  </tbody>\n",
       "</table>\n",
       "</div>"
      ],
      "text/plain": [
       "       date      pce   fed   price       pi\n",
       "0  5/1/2015  12261.1  0.12  233.14  15696.1\n",
       "1  6/1/2015  12295.6  0.13  223.56  15760.0\n",
       "2  7/1/2015  12357.1  0.13  259.02  15806.2"
      ]
     },
     "execution_count": 15,
     "metadata": {},
     "output_type": "execute_result"
    }
   ],
   "source": [
    "df.head(3)"
   ]
  },
  {
   "cell_type": "code",
   "execution_count": 16,
   "metadata": {},
   "outputs": [],
   "source": [
    "import pandas as pd\n",
    "from sklearn import linear_model\n",
    "import statsmodels.api as sm"
   ]
  },
  {
   "cell_type": "markdown",
   "metadata": {},
   "source": [
    "## correlation"
   ]
  },
  {
   "cell_type": "code",
   "execution_count": 23,
   "metadata": {},
   "outputs": [
    {
     "data": {
      "text/html": [
       "<div>\n",
       "<style scoped>\n",
       "    .dataframe tbody tr th:only-of-type {\n",
       "        vertical-align: middle;\n",
       "    }\n",
       "\n",
       "    .dataframe tbody tr th {\n",
       "        vertical-align: top;\n",
       "    }\n",
       "\n",
       "    .dataframe thead th {\n",
       "        text-align: right;\n",
       "    }\n",
       "</style>\n",
       "<table border=\"1\" class=\"dataframe\">\n",
       "  <thead>\n",
       "    <tr style=\"text-align: right;\">\n",
       "      <th></th>\n",
       "      <th>pce</th>\n",
       "      <th>pi</th>\n",
       "      <th>fed</th>\n",
       "      <th>price</th>\n",
       "    </tr>\n",
       "  </thead>\n",
       "  <tbody>\n",
       "    <tr>\n",
       "      <td>0</td>\n",
       "      <td>NaN</td>\n",
       "      <td>NaN</td>\n",
       "      <td>NaN</td>\n",
       "      <td>NaN</td>\n",
       "    </tr>\n",
       "    <tr>\n",
       "      <td>1</td>\n",
       "      <td>0.002814</td>\n",
       "      <td>0.004071</td>\n",
       "      <td>0.083333</td>\n",
       "      <td>-0.041091</td>\n",
       "    </tr>\n",
       "    <tr>\n",
       "      <td>2</td>\n",
       "      <td>0.005002</td>\n",
       "      <td>0.002931</td>\n",
       "      <td>0.000000</td>\n",
       "      <td>0.158615</td>\n",
       "    </tr>\n",
       "    <tr>\n",
       "      <td>3</td>\n",
       "      <td>0.002420</td>\n",
       "      <td>0.001885</td>\n",
       "      <td>0.076923</td>\n",
       "      <td>0.086904</td>\n",
       "    </tr>\n",
       "    <tr>\n",
       "      <td>4</td>\n",
       "      <td>-0.000202</td>\n",
       "      <td>0.000947</td>\n",
       "      <td>0.000000</td>\n",
       "      <td>-0.189358</td>\n",
       "    </tr>\n",
       "    <tr>\n",
       "      <td>5</td>\n",
       "      <td>0.000226</td>\n",
       "      <td>0.001274</td>\n",
       "      <td>-0.142857</td>\n",
       "      <td>0.044343</td>\n",
       "    </tr>\n",
       "    <tr>\n",
       "      <td>6</td>\n",
       "      <td>0.002866</td>\n",
       "      <td>-0.000731</td>\n",
       "      <td>0.000000</td>\n",
       "      <td>0.382311</td>\n",
       "    </tr>\n",
       "    <tr>\n",
       "      <td>7</td>\n",
       "      <td>0.002495</td>\n",
       "      <td>0.002453</td>\n",
       "      <td>1.000000</td>\n",
       "      <td>0.100832</td>\n",
       "    </tr>\n",
       "    <tr>\n",
       "      <td>8</td>\n",
       "      <td>0.002144</td>\n",
       "      <td>0.001736</td>\n",
       "      <td>0.416667</td>\n",
       "      <td>0.201224</td>\n",
       "    </tr>\n",
       "    <tr>\n",
       "      <td>9</td>\n",
       "      <td>0.005585</td>\n",
       "      <td>-0.000213</td>\n",
       "      <td>0.117647</td>\n",
       "      <td>-0.147661</td>\n",
       "    </tr>\n",
       "    <tr>\n",
       "      <td>10</td>\n",
       "      <td>-0.000821</td>\n",
       "      <td>0.002600</td>\n",
       "      <td>-0.052632</td>\n",
       "      <td>0.166294</td>\n",
       "    </tr>\n",
       "    <tr>\n",
       "      <td>11</td>\n",
       "      <td>0.006770</td>\n",
       "      <td>0.002368</td>\n",
       "      <td>0.027778</td>\n",
       "      <td>-0.035559</td>\n",
       "    </tr>\n",
       "    <tr>\n",
       "      <td>12</td>\n",
       "      <td>0.004222</td>\n",
       "      <td>0.001219</td>\n",
       "      <td>0.000000</td>\n",
       "      <td>0.094091</td>\n",
       "    </tr>\n",
       "    <tr>\n",
       "      <td>13</td>\n",
       "      <td>0.006610</td>\n",
       "      <td>0.002640</td>\n",
       "      <td>0.027027</td>\n",
       "      <td>0.170379</td>\n",
       "    </tr>\n",
       "    <tr>\n",
       "      <td>14</td>\n",
       "      <td>0.001387</td>\n",
       "      <td>0.003934</td>\n",
       "      <td>0.026316</td>\n",
       "      <td>0.268024</td>\n",
       "    </tr>\n",
       "    <tr>\n",
       "      <td>15</td>\n",
       "      <td>0.002614</td>\n",
       "      <td>0.002536</td>\n",
       "      <td>0.025641</td>\n",
       "      <td>-0.107625</td>\n",
       "    </tr>\n",
       "    <tr>\n",
       "      <td>16</td>\n",
       "      <td>0.004800</td>\n",
       "      <td>0.003965</td>\n",
       "      <td>0.000000</td>\n",
       "      <td>-0.053173</td>\n",
       "    </tr>\n",
       "    <tr>\n",
       "      <td>17</td>\n",
       "      <td>0.002975</td>\n",
       "      <td>0.003894</td>\n",
       "      <td>0.000000</td>\n",
       "      <td>0.074395</td>\n",
       "    </tr>\n",
       "    <tr>\n",
       "      <td>18</td>\n",
       "      <td>0.002261</td>\n",
       "      <td>0.002485</td>\n",
       "      <td>0.025000</td>\n",
       "      <td>0.186876</td>\n",
       "    </tr>\n",
       "    <tr>\n",
       "      <td>19</td>\n",
       "      <td>0.006375</td>\n",
       "      <td>0.003771</td>\n",
       "      <td>0.317073</td>\n",
       "      <td>0.031887</td>\n",
       "    </tr>\n",
       "    <tr>\n",
       "      <td>20</td>\n",
       "      <td>0.004215</td>\n",
       "      <td>0.008288</td>\n",
       "      <td>0.203704</td>\n",
       "      <td>0.316910</td>\n",
       "    </tr>\n",
       "    <tr>\n",
       "      <td>21</td>\n",
       "      <td>0.000856</td>\n",
       "      <td>0.004591</td>\n",
       "      <td>0.015385</td>\n",
       "      <td>-0.000201</td>\n",
       "    </tr>\n",
       "    <tr>\n",
       "      <td>22</td>\n",
       "      <td>0.004026</td>\n",
       "      <td>0.003679</td>\n",
       "      <td>0.196970</td>\n",
       "      <td>0.238983</td>\n",
       "    </tr>\n",
       "    <tr>\n",
       "      <td>23</td>\n",
       "      <td>0.003226</td>\n",
       "      <td>0.001770</td>\n",
       "      <td>0.139241</td>\n",
       "      <td>-0.112195</td>\n",
       "    </tr>\n",
       "    <tr>\n",
       "      <td>24</td>\n",
       "      <td>0.001160</td>\n",
       "      <td>0.004108</td>\n",
       "      <td>0.011111</td>\n",
       "      <td>0.315476</td>\n",
       "    </tr>\n",
       "    <tr>\n",
       "      <td>25</td>\n",
       "      <td>0.003772</td>\n",
       "      <td>0.000757</td>\n",
       "      <td>0.142857</td>\n",
       "      <td>0.684643</td>\n",
       "    </tr>\n",
       "    <tr>\n",
       "      <td>26</td>\n",
       "      <td>0.001758</td>\n",
       "      <td>0.003754</td>\n",
       "      <td>0.105769</td>\n",
       "      <td>0.001504</td>\n",
       "    </tr>\n",
       "    <tr>\n",
       "      <td>27</td>\n",
       "      <td>0.003254</td>\n",
       "      <td>0.004417</td>\n",
       "      <td>0.008696</td>\n",
       "      <td>0.127478</td>\n",
       "    </tr>\n",
       "    <tr>\n",
       "      <td>28</td>\n",
       "      <td>0.009499</td>\n",
       "      <td>0.006543</td>\n",
       "      <td>-0.008621</td>\n",
       "      <td>0.810733</td>\n",
       "    </tr>\n",
       "    <tr>\n",
       "      <td>29</td>\n",
       "      <td>0.004277</td>\n",
       "      <td>0.006007</td>\n",
       "      <td>0.000000</td>\n",
       "      <td>-0.111799</td>\n",
       "    </tr>\n",
       "    <tr>\n",
       "      <td>30</td>\n",
       "      <td>0.006392</td>\n",
       "      <td>0.005610</td>\n",
       "      <td>0.008696</td>\n",
       "      <td>0.543568</td>\n",
       "    </tr>\n",
       "    <tr>\n",
       "      <td>31</td>\n",
       "      <td>0.006057</td>\n",
       "      <td>0.006228</td>\n",
       "      <td>0.120690</td>\n",
       "      <td>0.602349</td>\n",
       "    </tr>\n",
       "    <tr>\n",
       "      <td>32</td>\n",
       "      <td>0.002034</td>\n",
       "      <td>0.007880</td>\n",
       "      <td>0.084615</td>\n",
       "      <td>0.240130</td>\n",
       "    </tr>\n",
       "    <tr>\n",
       "      <td>33</td>\n",
       "      <td>0.001059</td>\n",
       "      <td>0.003783</td>\n",
       "      <td>0.007092</td>\n",
       "      <td>-0.331289</td>\n",
       "    </tr>\n",
       "    <tr>\n",
       "      <td>34</td>\n",
       "      <td>0.004587</td>\n",
       "      <td>0.004271</td>\n",
       "      <td>0.063380</td>\n",
       "      <td>0.208747</td>\n",
       "    </tr>\n",
       "    <tr>\n",
       "      <td>35</td>\n",
       "      <td>0.006272</td>\n",
       "      <td>0.002538</td>\n",
       "      <td>0.119205</td>\n",
       "      <td>-0.374444</td>\n",
       "    </tr>\n",
       "    <tr>\n",
       "      <td>36</td>\n",
       "      <td>0.006615</td>\n",
       "      <td>0.003642</td>\n",
       "      <td>0.005917</td>\n",
       "      <td>0.331027</td>\n",
       "    </tr>\n",
       "    <tr>\n",
       "      <td>37</td>\n",
       "      <td>0.003698</td>\n",
       "      <td>0.004249</td>\n",
       "      <td>0.070588</td>\n",
       "      <td>-0.171728</td>\n",
       "    </tr>\n",
       "    <tr>\n",
       "      <td>38</td>\n",
       "      <td>0.005170</td>\n",
       "      <td>0.004653</td>\n",
       "      <td>0.049451</td>\n",
       "      <td>-0.155013</td>\n",
       "    </tr>\n",
       "    <tr>\n",
       "      <td>39</td>\n",
       "      <td>0.003630</td>\n",
       "      <td>0.004038</td>\n",
       "      <td>0.000000</td>\n",
       "      <td>0.197573</td>\n",
       "    </tr>\n",
       "    <tr>\n",
       "      <td>40</td>\n",
       "      <td>0.000694</td>\n",
       "      <td>0.000167</td>\n",
       "      <td>0.020942</td>\n",
       "      <td>-0.054302</td>\n",
       "    </tr>\n",
       "    <tr>\n",
       "      <td>41</td>\n",
       "      <td>0.005871</td>\n",
       "      <td>0.002918</td>\n",
       "      <td>0.123077</td>\n",
       "      <td>-0.085975</td>\n",
       "    </tr>\n",
       "    <tr>\n",
       "      <td>42</td>\n",
       "      <td>0.003157</td>\n",
       "      <td>0.001610</td>\n",
       "      <td>0.004566</td>\n",
       "      <td>-0.034815</td>\n",
       "    </tr>\n",
       "    <tr>\n",
       "      <td>43</td>\n",
       "      <td>-0.008229</td>\n",
       "      <td>0.009398</td>\n",
       "      <td>0.031818</td>\n",
       "      <td>-0.347098</td>\n",
       "    </tr>\n",
       "    <tr>\n",
       "      <td>44</td>\n",
       "      <td>0.005584</td>\n",
       "      <td>0.002851</td>\n",
       "      <td>0.057269</td>\n",
       "      <td>-0.076270</td>\n",
       "    </tr>\n",
       "    <tr>\n",
       "      <td>45</td>\n",
       "      <td>-0.000773</td>\n",
       "      <td>0.005811</td>\n",
       "      <td>0.000000</td>\n",
       "      <td>-0.101566</td>\n",
       "    </tr>\n",
       "    <tr>\n",
       "      <td>46</td>\n",
       "      <td>0.009707</td>\n",
       "      <td>0.004465</td>\n",
       "      <td>0.004167</td>\n",
       "      <td>0.107249</td>\n",
       "    </tr>\n",
       "    <tr>\n",
       "      <td>47</td>\n",
       "      <td>0.006820</td>\n",
       "      <td>0.003264</td>\n",
       "      <td>0.004149</td>\n",
       "      <td>0.086919</td>\n",
       "    </tr>\n",
       "    <tr>\n",
       "      <td>48</td>\n",
       "      <td>0.004394</td>\n",
       "      <td>0.002205</td>\n",
       "      <td>-0.012397</td>\n",
       "      <td>0.286234</td>\n",
       "    </tr>\n",
       "    <tr>\n",
       "      <td>49</td>\n",
       "      <td>0.003376</td>\n",
       "      <td>0.003715</td>\n",
       "      <td>-0.004184</td>\n",
       "      <td>0.608301</td>\n",
       "    </tr>\n",
       "    <tr>\n",
       "      <td>50</td>\n",
       "      <td>0.005451</td>\n",
       "      <td>-0.000107</td>\n",
       "      <td>0.008403</td>\n",
       "      <td>0.235173</td>\n",
       "    </tr>\n",
       "    <tr>\n",
       "      <td>51</td>\n",
       "      <td>0.002595</td>\n",
       "      <td>0.004019</td>\n",
       "      <td>-0.112500</td>\n",
       "      <td>-0.014510</td>\n",
       "    </tr>\n",
       "    <tr>\n",
       "      <td>52</td>\n",
       "      <td>0.001730</td>\n",
       "      <td>0.002189</td>\n",
       "      <td>-0.042254</td>\n",
       "      <td>-0.062166</td>\n",
       "    </tr>\n",
       "    <tr>\n",
       "      <td>53</td>\n",
       "      <td>0.002556</td>\n",
       "      <td>0.001228</td>\n",
       "      <td>-0.102941</td>\n",
       "      <td>-0.148031</td>\n",
       "    </tr>\n",
       "    <tr>\n",
       "      <td>54</td>\n",
       "      <td>0.003194</td>\n",
       "      <td>0.004602</td>\n",
       "      <td>-0.153005</td>\n",
       "      <td>0.113483</td>\n",
       "    </tr>\n",
       "    <tr>\n",
       "      <td>55</td>\n",
       "      <td>0.003691</td>\n",
       "      <td>0.001810</td>\n",
       "      <td>0.000000</td>\n",
       "      <td>-0.200060</td>\n",
       "    </tr>\n",
       "    <tr>\n",
       "      <td>56</td>\n",
       "      <td>0.004486</td>\n",
       "      <td>0.005368</td>\n",
       "      <td>0.000000</td>\n",
       "      <td>-0.032307</td>\n",
       "    </tr>\n",
       "    <tr>\n",
       "      <td>57</td>\n",
       "      <td>0.001797</td>\n",
       "      <td>0.005513</td>\n",
       "      <td>0.019355</td>\n",
       "      <td>0.306752</td>\n",
       "    </tr>\n",
       "    <tr>\n",
       "      <td>58</td>\n",
       "      <td>-0.075453</td>\n",
       "      <td>-0.020028</td>\n",
       "      <td>-0.588608</td>\n",
       "      <td>-0.094374</td>\n",
       "    </tr>\n",
       "  </tbody>\n",
       "</table>\n",
       "</div>"
      ],
      "text/plain": [
       "         pce        pi       fed     price\n",
       "0        NaN       NaN       NaN       NaN\n",
       "1   0.002814  0.004071  0.083333 -0.041091\n",
       "2   0.005002  0.002931  0.000000  0.158615\n",
       "3   0.002420  0.001885  0.076923  0.086904\n",
       "4  -0.000202  0.000947  0.000000 -0.189358\n",
       "5   0.000226  0.001274 -0.142857  0.044343\n",
       "6   0.002866 -0.000731  0.000000  0.382311\n",
       "7   0.002495  0.002453  1.000000  0.100832\n",
       "8   0.002144  0.001736  0.416667  0.201224\n",
       "9   0.005585 -0.000213  0.117647 -0.147661\n",
       "10 -0.000821  0.002600 -0.052632  0.166294\n",
       "11  0.006770  0.002368  0.027778 -0.035559\n",
       "12  0.004222  0.001219  0.000000  0.094091\n",
       "13  0.006610  0.002640  0.027027  0.170379\n",
       "14  0.001387  0.003934  0.026316  0.268024\n",
       "15  0.002614  0.002536  0.025641 -0.107625\n",
       "16  0.004800  0.003965  0.000000 -0.053173\n",
       "17  0.002975  0.003894  0.000000  0.074395\n",
       "18  0.002261  0.002485  0.025000  0.186876\n",
       "19  0.006375  0.003771  0.317073  0.031887\n",
       "20  0.004215  0.008288  0.203704  0.316910\n",
       "21  0.000856  0.004591  0.015385 -0.000201\n",
       "22  0.004026  0.003679  0.196970  0.238983\n",
       "23  0.003226  0.001770  0.139241 -0.112195\n",
       "24  0.001160  0.004108  0.011111  0.315476\n",
       "25  0.003772  0.000757  0.142857  0.684643\n",
       "26  0.001758  0.003754  0.105769  0.001504\n",
       "27  0.003254  0.004417  0.008696  0.127478\n",
       "28  0.009499  0.006543 -0.008621  0.810733\n",
       "29  0.004277  0.006007  0.000000 -0.111799\n",
       "30  0.006392  0.005610  0.008696  0.543568\n",
       "31  0.006057  0.006228  0.120690  0.602349\n",
       "32  0.002034  0.007880  0.084615  0.240130\n",
       "33  0.001059  0.003783  0.007092 -0.331289\n",
       "34  0.004587  0.004271  0.063380  0.208747\n",
       "35  0.006272  0.002538  0.119205 -0.374444\n",
       "36  0.006615  0.003642  0.005917  0.331027\n",
       "37  0.003698  0.004249  0.070588 -0.171728\n",
       "38  0.005170  0.004653  0.049451 -0.155013\n",
       "39  0.003630  0.004038  0.000000  0.197573\n",
       "40  0.000694  0.000167  0.020942 -0.054302\n",
       "41  0.005871  0.002918  0.123077 -0.085975\n",
       "42  0.003157  0.001610  0.004566 -0.034815\n",
       "43 -0.008229  0.009398  0.031818 -0.347098\n",
       "44  0.005584  0.002851  0.057269 -0.076270\n",
       "45 -0.000773  0.005811  0.000000 -0.101566\n",
       "46  0.009707  0.004465  0.004167  0.107249\n",
       "47  0.006820  0.003264  0.004149  0.086919\n",
       "48  0.004394  0.002205 -0.012397  0.286234\n",
       "49  0.003376  0.003715 -0.004184  0.608301\n",
       "50  0.005451 -0.000107  0.008403  0.235173\n",
       "51  0.002595  0.004019 -0.112500 -0.014510\n",
       "52  0.001730  0.002189 -0.042254 -0.062166\n",
       "53  0.002556  0.001228 -0.102941 -0.148031\n",
       "54  0.003194  0.004602 -0.153005  0.113483\n",
       "55  0.003691  0.001810  0.000000 -0.200060\n",
       "56  0.004486  0.005368  0.000000 -0.032307\n",
       "57  0.001797  0.005513  0.019355  0.306752\n",
       "58 -0.075453 -0.020028 -0.588608 -0.094374"
      ]
     },
     "execution_count": 23,
     "metadata": {},
     "output_type": "execute_result"
    }
   ],
   "source": [
    "coe1=df[[\"pce\",\"pi\",\"fed\",\"price\"]]\n",
    "correlation1=coe1.pct_change()\n",
    "correlation1"
   ]
  },
  {
   "cell_type": "code",
   "execution_count": 263,
   "metadata": {},
   "outputs": [],
   "source": [
    "X=df[['pce','fed',\"pi\"]]\n",
    "Y=df[['price']]"
   ]
  },
  {
   "cell_type": "code",
   "execution_count": 264,
   "metadata": {
    "scrolled": true
   },
   "outputs": [
    {
     "name": "stdout",
     "output_type": "stream",
     "text": [
      "Intercept: \n",
      " [-51652.02437195]\n",
      "Coefficients: \n",
      " [[   1.95344036 -552.71796951    1.75217175]]\n"
     ]
    }
   ],
   "source": [
    "regr= linear_model.LinearRegression()\n",
    "regr.fit(X, Y)\n",
    "print('Intercept: \\n', regr.intercept_)\n",
    "print('Coefficients: \\n', regr.coef_)\n"
   ]
  },
  {
   "cell_type": "code",
   "execution_count": 265,
   "metadata": {},
   "outputs": [],
   "source": [
    "inte=regr.intercept_\n",
    "coe=regr.coef_"
   ]
  },
  {
   "cell_type": "code",
   "execution_count": 256,
   "metadata": {
    "scrolled": true
   },
   "outputs": [
    {
     "name": "stdout",
     "output_type": "stream",
     "text": [
      "Predicted  Price: \n",
      " [[10656.66792768]]\n"
     ]
    }
   ],
   "source": [
    "# prediction with sklearn\n",
    "New_pce = 14000\n",
    "New_fed =0.15\n",
    "New_pi = 20000\n",
    "ccc=regr.predict([[New_pce ,New_fed,New_pi]])\n",
    "\n",
    "print ('Predicted  Price: \\n', regr.predict([[New_pce ,New_fed,New_pi]]))"
   ]
  },
  {
   "cell_type": "code",
   "execution_count": 243,
   "metadata": {
    "scrolled": true
   },
   "outputs": [
    {
     "data": {
      "text/html": [
       "<div>\n",
       "<style scoped>\n",
       "    .dataframe tbody tr th:only-of-type {\n",
       "        vertical-align: middle;\n",
       "    }\n",
       "\n",
       "    .dataframe tbody tr th {\n",
       "        vertical-align: top;\n",
       "    }\n",
       "\n",
       "    .dataframe thead th {\n",
       "        text-align: right;\n",
       "    }\n",
       "</style>\n",
       "<table border=\"1\" class=\"dataframe\">\n",
       "  <thead>\n",
       "    <tr style=\"text-align: right;\">\n",
       "      <th></th>\n",
       "      <th>const</th>\n",
       "      <th>pce</th>\n",
       "      <th>fed</th>\n",
       "      <th>pi</th>\n",
       "    </tr>\n",
       "  </thead>\n",
       "  <tbody>\n",
       "    <tr>\n",
       "      <td>0</td>\n",
       "      <td>1.0</td>\n",
       "      <td>12261.1</td>\n",
       "      <td>0.12</td>\n",
       "      <td>15696.1</td>\n",
       "    </tr>\n",
       "    <tr>\n",
       "      <td>1</td>\n",
       "      <td>1.0</td>\n",
       "      <td>12295.6</td>\n",
       "      <td>0.13</td>\n",
       "      <td>15760.0</td>\n",
       "    </tr>\n",
       "    <tr>\n",
       "      <td>2</td>\n",
       "      <td>1.0</td>\n",
       "      <td>12357.1</td>\n",
       "      <td>0.13</td>\n",
       "      <td>15806.2</td>\n",
       "    </tr>\n",
       "  </tbody>\n",
       "</table>\n",
       "</div>"
      ],
      "text/plain": [
       "   const      pce   fed       pi\n",
       "0    1.0  12261.1  0.12  15696.1\n",
       "1    1.0  12295.6  0.13  15760.0\n",
       "2    1.0  12357.1  0.13  15806.2"
      ]
     },
     "execution_count": 243,
     "metadata": {},
     "output_type": "execute_result"
    }
   ],
   "source": [
    "X.head(3)"
   ]
  },
  {
   "cell_type": "code",
   "execution_count": 279,
   "metadata": {},
   "outputs": [
    {
     "data": {
      "image/png": "[encoded data removed]",
      "text/plain": [
       "<Figure size 1008x360 with 1 Axes>"
      ]
     },
     "metadata": {
      "needs_background": "light"
     },
     "output_type": "display_data"
    }
   ],
   "source": [
    "plt.figure(figsize=(14,5))\n",
    "plt.scatter(X.pce.values,X.pi.values,X.fed.values,Y.price.values)\n",
    "plt.show()"
   ]
  },
  {
   "cell_type": "code",
   "execution_count": 201,
   "metadata": {},
   "outputs": [
    {
     "name": "stdout",
     "output_type": "stream",
     "text": [
      "                            OLS Regression Results                            \n",
      "==============================================================================\n",
      "Dep. Variable:                  price   R-squared:                       0.663\n",
      "Model:                            OLS   Adj. R-squared:                  0.645\n",
      "Method:                 Least Squares   F-statistic:                     36.06\n",
      "Date:                Sun, 03 May 2020   Prob (F-statistic):           5.07e-13\n",
      "Time:                        23:20:49   Log-Likelihood:                -538.22\n",
      "No. Observations:                  59   AIC:                             1084.\n",
      "Df Residuals:                      55   BIC:                             1093.\n",
      "Df Model:                           3                                         \n",
      "Covariance Type:            nonrobust                                         \n",
      "==============================================================================\n",
      "                 coef    std err          t      P>|t|      [0.025      0.975]\n",
      "------------------------------------------------------------------------------\n",
      "const      -5.165e+04   1.11e+04     -4.670      0.000   -7.38e+04   -2.95e+04\n",
      "pce            1.9534      2.501      0.781      0.438      -3.058       6.965\n",
      "fed         -552.7180    926.807     -0.596      0.553   -2410.080    1304.644\n",
      "pi             1.7522      1.747      1.003      0.320      -1.749       5.254\n",
      "==============================================================================\n",
      "Omnibus:                       25.769   Durbin-Watson:                   0.400\n",
      "Prob(Omnibus):                  0.000   Jarque-Bera (JB):               47.161\n",
      "Skew:                           1.437   Prob(JB):                     5.74e-11\n",
      "Kurtosis:                       6.306   Cond. No.                     8.15e+05\n",
      "==============================================================================\n",
      "\n",
      "Warnings:\n",
      "[1] Standard Errors assume that the covariance matrix of the errors is correctly specified.\n",
      "[2] The condition number is large, 8.15e+05. This might indicate that there are\n",
      "strong multicollinearity or other numerical problems.\n"
     ]
    },
    {
     "name": "stderr",
     "output_type": "stream",
     "text": [
      "C:\\Users\\Rachel\\Anaconda3\\lib\\site-packages\\numpy\\core\\fromnumeric.py:2389: FutureWarning: Method .ptp is deprecated and will be removed in a future version. Use numpy.ptp instead.\n",
      "  return ptp(axis=axis, out=out, **kwargs)\n"
     ]
    }
   ],
   "source": [
    "#from internet\n",
    "# with statsmodels\n",
    "X = sm.add_constant(X) # adding a constant\n",
    " \n",
    "model = sm.OLS(Y, X).fit()\n",
    "predictions = model.predict(X) \n",
    " \n",
    "print_model = model.summary()\n",
    "print(print_model)"
   ]
  },
  {
   "cell_type": "code",
   "execution_count": null,
   "metadata": {},
   "outputs": [],
   "source": []
  }
 ],
 "metadata": {
  "kernelspec": {
   "display_name": "Python 3",
   "language": "python",
   "name": "python3"
  },
  "language_info": {
   "codemirror_mode": {
    "name": "ipython",
    "version": 3
   },
   "file_extension": ".py",
   "mimetype": "text/x-python",
   "name": "python",
   "nbconvert_exporter": "python",
   "pygments_lexer": "ipython3",
   "version": "3.7.4"
  }
 },
 "nbformat": 4,
 "nbformat_minor": 2
}
